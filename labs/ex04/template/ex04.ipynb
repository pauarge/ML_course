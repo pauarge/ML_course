{
 "cells": [
  {
   "cell_type": "code",
   "execution_count": 1,
   "metadata": {},
   "outputs": [],
   "source": [
    "# Useful starting lines\n",
    "%matplotlib inline\n",
    "import numpy as np\n",
    "import matplotlib.pyplot as plt\n",
    "%load_ext autoreload\n",
    "%autoreload 2"
   ]
  },
  {
   "cell_type": "markdown",
   "metadata": {},
   "source": [
    "# Cross-Validation and Bias-Variance decomposition\n",
    "## Cross-Validation\n",
    "Implementing 4-fold cross-validation below:"
   ]
  },
  {
   "cell_type": "code",
   "execution_count": 2,
   "metadata": {
    "collapsed": true
   },
   "outputs": [],
   "source": [
    "from helpers import load_data\n",
    "\n",
    "# load dataset\n",
    "x, y = load_data()"
   ]
  },
  {
   "cell_type": "code",
   "execution_count": 3,
   "metadata": {
    "collapsed": true
   },
   "outputs": [],
   "source": [
    "def build_k_indices(y, k_fold, seed):\n",
    "    \"\"\"build k indices for k-fold.\"\"\"\n",
    "    num_row = y.shape[0]\n",
    "    interval = int(num_row / k_fold)\n",
    "    np.random.seed(seed)\n",
    "    indices = np.random.permutation(num_row)\n",
    "    k_indices = [indices[k * interval: (k + 1) * interval]\n",
    "                 for k in range(k_fold)]\n",
    "    return np.array(k_indices)"
   ]
  },
  {
   "cell_type": "code",
   "execution_count": 4,
   "metadata": {
    "collapsed": true
   },
   "outputs": [],
   "source": [
    "from costs import compute_mse\n",
    "from ridge_regression import ridge_regression\n",
    "from build_polynomial import build_poly\n",
    "\n",
    "def cross_validation(y, x, k_indices, k, lambda_, degree):\n",
    "    \"\"\"return the loss of ridge regression.\"\"\"\n",
    "    y_test = np.take(y, k_indices[k])\n",
    "    x_test = np.take(x, k_indices[k])\n",
    "    \n",
    "    k_indices_new = np.delete(k_indices, k, 0)\n",
    "    k_flattened_new = k_indices_new.flatten()\n",
    "    \n",
    "    y_train = np.take(y, k_flattened_new)\n",
    "    x_train = np.take(x, k_flattened_new)\n",
    "    \n",
    "    tx_test = build_poly(x_test, degree)\n",
    "    tx_train = build_poly(x_train, degree)\n",
    "    \n",
    "    w = ridge_regression(y_train, tx_train, lambda_)\n",
    "    \n",
    "    rmse_tr = np.sqrt(2 * compute_mse(y_train, tx_train, w))\n",
    "    rmse_te = np.sqrt(2 * compute_mse(y_test, tx_test, w))\n",
    "    return rmse_tr, rmse_te "
   ]
  },
  {
   "cell_type": "code",
   "execution_count": 44,
   "metadata": {},
   "outputs": [
    {
     "data": {
      "image/png": "[encoded data removed]",
      "text/plain": [
       "<matplotlib.figure.Figure at 0x110462fd0>"
      ]
     },
     "metadata": {},
     "output_type": "display_data"
    }
   ],
   "source": [
    "from plots import cross_validation_visualization\n",
    "\n",
    "def cross_validation_demo(degree):\n",
    "    seed = 1\n",
    "    k_fold = 4\n",
    "    lambdas = np.logspace(-4, 0, 30)\n",
    "    #lambdas = [0,0.001,0.005,0.01]\n",
    "    # split data in k fold\n",
    "    k_indices = build_k_indices(y, k_fold, seed)\n",
    "\n",
    "    # define lists to store the loss of training data and test data\n",
    "    rmse_tr = []\n",
    "    rmse_te = []\n",
    "    for i in lambdas:\n",
    "        tr, te = 0, 0\n",
    "        for j in range(k_fold):\n",
    "            tmp_tr, tmp_te = cross_validation(y, x, k_indices, j, i, degree)\n",
    "            tr += tmp_tr\n",
    "            te += tmp_te\n",
    "        rmse_tr.append(tr/k_fold)\n",
    "        rmse_te.append(te/k_fold)\n",
    "    \n",
    "    #cross_validation_visualization(lambdas, rmse_tr, rmse_te, degree)\n",
    "    return rmse_tr, rmse_te\n",
    "    #ax1.boxplot(rmse_tr)\n",
    "    #ax1.set_title('Sharing Y axis')\n",
    "    #ax2.boxplot(rmse_tr)\n",
    "\n",
    "d = 5    \n",
    "f, axarr = plt.subplots(1, d, sharey=True)\n",
    "rmse_tr_d = []\n",
    "rmse_te_d = []\n",
    "for i in range(6,(6+d)):\n",
    "    rmse_tr, rmse_te = cross_validation_demo(i)\n",
    "    rmse_tr_d.append(rmse_tr)\n",
    "    rmse_te_d.append(rmse_te)\n",
    "    #axarr[i-6].boxplot(rmse_tr_d[i-6])\n",
    "    axarr[i-6].set_title(\"TE: degre{}\".format(i))\n",
    "    axarr[i-6].boxplot(rmse_te_d[i-6])\n",
    "    \n",
    "plt.savefig(\"box plot rmse\", dpi=256)"
   ]
  },
  {
   "cell_type": "markdown",
   "metadata": {},
   "source": [
    "## Bias-Variance Decomposition\n",
    "Visualize bias-variance trade-off by implementing the function `bias_variance_demo()` below:"
   ]
  },
  {
   "cell_type": "code",
   "execution_count": null,
   "metadata": {
    "collapsed": true
   },
   "outputs": [],
   "source": [
    "from least_squares import least_squares\n",
    "from split_data import split_data\n",
    "from plots import bias_variance_decomposition_visualization\n",
    "\n",
    "def bias_variance_demo():\n",
    "    \"\"\"The entry.\"\"\"\n",
    "    # define parameters\n",
    "    seeds = range(100)\n",
    "    num_data = 10000\n",
    "    ratio_train = 0.005\n",
    "    degrees = range(1, 10)\n",
    "    \n",
    "    # define list to store the variable\n",
    "    rmse_tr = np.empty((len(seeds), len(degrees)))\n",
    "    rmse_te = np.empty((len(seeds), len(degrees)))\n",
    "    \n",
    "    for index_seed, seed in enumerate(seeds):\n",
    "        np.random.seed(seed)\n",
    "        x = np.linspace(0.1, 2 * np.pi, num_data)\n",
    "        y = np.sin(x) + 0.3 * np.random.randn(num_data).T\n",
    "        \n",
    "        train_x, test_x, train_y, test_y  = split_data (x,y,ratio_train,seed)\n",
    "        \n",
    "        # ***************************************************\n",
    "        # INSERT YOUR CODE HERE\n",
    "        # bias_variance_decomposition: TODO\n",
    "        # ***************************************************\n",
    "        raise NotImplementedError\n",
    "\n",
    "    bias_variance_decomposition_visualization(degrees, rmse_tr, rmse_te)\n",
    "\n",
    "bias_variance_demo()"
   ]
  }
 ],
 "metadata": {
  "anaconda-cloud": {},
  "kernelspec": {
   "display_name": "Python 3",
   "language": "python",
   "name": "python3"
  },
  "language_info": {
   "codemirror_mode": {
    "name": "ipython",
    "version": 3
   },
   "file_extension": ".py",
   "mimetype": "text/x-python",
   "name": "python",
   "nbconvert_exporter": "python",
   "pygments_lexer": "ipython3",
   "version": "3.5.4"
  }
 },
 "nbformat": 4,
 "nbformat_minor": 1
}
