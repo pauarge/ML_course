{
 "cells": [
  {
   "cell_type": "code",
   "execution_count": 1,
   "metadata": {},
   "outputs": [],
   "source": [
    "# Useful starting lines\n",
    "%matplotlib inline\n",
    "import numpy as np\n",
    "import matplotlib.pyplot as plt\n",
    "%load_ext autoreload\n",
    "%autoreload 2"
   ]
  },
  {
   "cell_type": "markdown",
   "metadata": {},
   "source": [
    "# Load the data"
   ]
  },
  {
   "cell_type": "code",
   "execution_count": 21,
   "metadata": {},
   "outputs": [],
   "source": [
    "import datetime\n",
    "from helpers import *\n",
    "\n",
    "height, weight, gender = load_data(sub_sample=True, add_outlier=True)\n",
    "x, mean_x, std_x = standardize(height)\n",
    "y, tx = build_model_data(x, weight)"
   ]
  },
  {
   "cell_type": "code",
   "execution_count": 22,
   "metadata": {},
   "outputs": [
    {
     "data": {
      "text/plain": [
       "((202,), (202, 2))"
      ]
     },
     "execution_count": 22,
     "metadata": {},
     "output_type": "execute_result"
    }
   ],
   "source": [
    "y.shape, tx.shape"
   ]
  },
  {
   "cell_type": "markdown",
   "metadata": {},
   "source": [
    "# Computing the Cost Function\n",
    "Fill in the `compute_cost` function below:"
   ]
  },
  {
   "cell_type": "code",
   "execution_count": 23,
   "metadata": {},
   "outputs": [],
   "source": [
    "def calculate_mse(e):\n",
    "    \"\"\"Calculate the mse for vector e.\"\"\"\n",
    "    return 1/2*np.mean(e**2)\n",
    "\n",
    "\n",
    "def calculate_mae(e):\n",
    "    \"\"\"Calculate the mae for vector e.\"\"\"\n",
    "    return np.mean(np.abs(e))\n",
    "\n",
    "\n",
    "def compute_loss(y, tx, w):\n",
    "    \"\"\"Calculate the loss.\n",
    "\n",
    "    You can calculate the loss using mse or mae.\n",
    "    \"\"\"\n",
    "    e = y - tx.dot(w)\n",
    "    return calculate_mse(e)"
   ]
  },
  {
   "cell_type": "markdown",
   "metadata": {},
   "source": [
    "# Grid Search"
   ]
  },
  {
   "cell_type": "markdown",
   "metadata": {},
   "source": [
    "Fill in the function `grid_search()` below:"
   ]
  },
  {
   "cell_type": "code",
   "execution_count": 24,
   "metadata": {},
   "outputs": [],
   "source": [
    "# from costs import *\n",
    "\n",
    "def grid_search(y, tx, w0, w1):\n",
    "    \"\"\"Algorithm for grid search.\"\"\"\n",
    "    loss = np.zeros((len(w0), len(w1)))\n",
    "    # compute loss for each combinationof w0 and w1.\n",
    "    for ind_row, row in enumerate(w0):\n",
    "        for ind_col, col in enumerate(w1):\n",
    "            w = np.array([row, col])\n",
    "            loss[ind_row, ind_col] = compute_loss(y, tx, w)\n",
    "    return loss"
   ]
  },
  {
   "cell_type": "markdown",
   "metadata": {},
   "source": [
    "Let us play with the grid search demo now!"
   ]
  },
  {
   "cell_type": "code",
   "execution_count": 25,
   "metadata": {},
   "outputs": [
    {
     "name": "stdout",
     "output_type": "stream",
     "text": [
      "Grid Search: loss*=66.92119404701603, w0*=72.72727272727272, w1*=10.606060606060595, execution time=0.159 seconds\n"
     ]
    },
    {
     "data": {
      "image/png": "[encoded data removed]",
      "text/plain": [
       "<matplotlib.figure.Figure at 0x1133076d8>"
      ]
     },
     "metadata": {},
     "output_type": "display_data"
    }
   ],
   "source": [
    "from grid_search import generate_w, get_best_parameters\n",
    "from plots import grid_visualization\n",
    "\n",
    "# Generate the grid of parameters to be swept\n",
    "grid_w0, grid_w1 = generate_w(num_intervals=100)\n",
    "\n",
    "# Start the grid search\n",
    "start_time = datetime.datetime.now()\n",
    "grid_losses = grid_search(y, tx, grid_w0, grid_w1)\n",
    "\n",
    "# Select the best combinaison\n",
    "loss_star, w0_star, w1_star = get_best_parameters(grid_w0, grid_w1, grid_losses)\n",
    "end_time = datetime.datetime.now()\n",
    "execution_time = (end_time - start_time).total_seconds()\n",
    "\n",
    "# Print the results\n",
    "print(\"Grid Search: loss*={l}, w0*={w0}, w1*={w1}, execution time={t:.3f} seconds\".format(\n",
    "      l=loss_star, w0=w0_star, w1=w1_star, t=execution_time))\n",
    "\n",
    "# Plot the results\n",
    "fig = grid_visualization(grid_losses, grid_w0, grid_w1, mean_x, std_x, height, weight)\n",
    "fig.set_size_inches(10.0,6.0)\n",
    "fig.savefig(\"grid_plot\")  # Optional saving"
   ]
  },
  {
   "cell_type": "markdown",
   "metadata": {},
   "source": [
    "# Gradient Descent"
   ]
  },
  {
   "cell_type": "markdown",
   "metadata": {},
   "source": [
    "Again, please fill in the functions `compute_gradient` below:"
   ]
  },
  {
   "cell_type": "code",
   "execution_count": 28,
   "metadata": {},
   "outputs": [],
   "source": [
    "def compute_gradient(y, tx, w):\n",
    "    \"\"\"Compute the gradient.\"\"\"\n",
    "    err = y - tx.dot(w)\n",
    "    grad = -tx.T.dot(err) / len(err)\n",
    "    return grad, err"
   ]
  },
  {
   "cell_type": "markdown",
   "metadata": {},
   "source": [
    "Please fill in the functions `gradient_descent` below:"
   ]
  },
  {
   "cell_type": "code",
   "execution_count": 30,
   "metadata": {},
   "outputs": [],
   "source": [
    "def gradient_descent(y, tx, initial_w, max_iters, gamma):\n",
    "    \"\"\"Gradient descent algorithm.\"\"\"\n",
    "    # Define parameters to store w and loss\n",
    "    ws = [initial_w]\n",
    "    losses = []\n",
    "    w = initial_w\n",
    "    for n_iter in range(max_iters):\n",
    "        # compute loss, gradient\n",
    "        grad, err = compute_gradient(y, tx, w)\n",
    "        loss = calculate_mse(err)\n",
    "        # gradient w by descent update\n",
    "        w = w - gamma * grad\n",
    "        # store w and loss\n",
    "        ws.append(w)\n",
    "        losses.append(loss)\n",
    "        print(\"Gradient Descent({bi}/{ti}): loss={l}, w0={w0}, w1={w1}\".format(\n",
    "              bi=n_iter, ti=max_iters - 1, l=loss, w0=w[0], w1=w[1]))\n",
    "\n",
    "    return losses, ws"
   ]
  },
  {
   "cell_type": "markdown",
   "metadata": {},
   "source": [
    "Test your gradient descent function through gradient descent demo shown below:"
   ]
  },
  {
   "cell_type": "code",
   "execution_count": 31,
   "metadata": {},
   "outputs": [
    {
     "name": "stdout",
     "output_type": "stream",
     "text": [
      "Gradient Descent(0/49): loss=2869.8351145358524, w0=37.03390292746316, w1=5.517447432994586\n",
      "Gradient Descent(1/49): loss=766.9068262109164, w0=55.550854391194754, w1=8.27617114949186\n",
      "Gradient Descent(2/49): loss=241.17475412968173, w0=64.80933012306056, w1=9.655533007740491\n",
      "Gradient Descent(3/49): loss=109.74173610937295, w0=69.43856798899347, w1=10.345213936864802\n",
      "Gradient Descent(4/49): loss=76.88348160429572, w0=71.75318692195992, w1=10.690054401426956\n",
      "Gradient Descent(5/49): loss=68.66891797802646, w0=72.91049638844315, w1=10.86247463370803\n",
      "Gradient Descent(6/49): loss=66.61527707145913, w0=73.48915112168476, w1=10.948684749848567\n",
      "Gradient Descent(7/49): loss=66.10186684481731, w0=73.77847848830557, w1=10.991789807918835\n",
      "Gradient Descent(8/49): loss=65.97351428815686, w0=73.92314217161596, w1=11.013342336953968\n",
      "Gradient Descent(9/49): loss=65.94142614899174, w0=73.99547401327116, w1=11.024118601471535\n",
      "Gradient Descent(10/49): loss=65.93340411420047, w0=74.03163993409876, w1=11.029506733730319\n",
      "Gradient Descent(11/49): loss=65.93139860550265, w0=74.04972289451257, w1=11.03220079985971\n",
      "Gradient Descent(12/49): loss=65.9308972283282, w0=74.05876437471947, w1=11.033547832924405\n",
      "Gradient Descent(13/49): loss=65.93077188403458, w0=74.06328511482292, w1=11.034221349456754\n",
      "Gradient Descent(14/49): loss=65.9307405479612, w0=74.06554548487465, w1=11.034558107722928\n",
      "Gradient Descent(15/49): loss=65.93073271394282, w0=74.0666756699005, w1=11.034726486856014\n",
      "Gradient Descent(16/49): loss=65.93073075543823, w0=74.06724076241343, w1=11.034810676422557\n",
      "Gradient Descent(17/49): loss=65.9307302658121, w0=74.0675233086699, w1=11.034852771205829\n",
      "Gradient Descent(18/49): loss=65.93073014340554, w0=74.06766458179814, w1=11.034873818597466\n",
      "Gradient Descent(19/49): loss=65.93073011280393, w0=74.06773521836226, w1=11.034884342293285\n",
      "Gradient Descent(20/49): loss=65.9307301051535, w0=74.06777053664432, w1=11.034889604141192\n",
      "Gradient Descent(21/49): loss=65.9307301032409, w0=74.06778819578534, w1=11.034892235065147\n",
      "Gradient Descent(22/49): loss=65.93073010276277, w0=74.06779702535586, w1=11.034893550527123\n",
      "Gradient Descent(23/49): loss=65.93073010264321, w0=74.06780144014111, w1=11.034894208258113\n",
      "Gradient Descent(24/49): loss=65.93073010261334, w0=74.06780364753374, w1=11.03489453712361\n",
      "Gradient Descent(25/49): loss=65.93073010260588, w0=74.06780475123006, w1=11.034894701556356\n",
      "Gradient Descent(26/49): loss=65.930730102604, w0=74.06780530307822, w1=11.03489478377273\n",
      "Gradient Descent(27/49): loss=65.93073010260352, w0=74.0678055790023, w1=11.034894824880915\n",
      "Gradient Descent(28/49): loss=65.93073010260342, w0=74.06780571696433, w1=11.034894845435009\n",
      "Gradient Descent(29/49): loss=65.93073010260339, w0=74.06780578594535, w1=11.034894855712055\n",
      "Gradient Descent(30/49): loss=65.93073010260336, w0=74.06780582043586, w1=11.034894860850578\n",
      "Gradient Descent(31/49): loss=65.93073010260336, w0=74.06780583768112, w1=11.034894863419838\n",
      "Gradient Descent(32/49): loss=65.93073010260338, w0=74.06780584630374, w1=11.03489486470447\n",
      "Gradient Descent(33/49): loss=65.93073010260338, w0=74.06780585061506, w1=11.034894865346786\n",
      "Gradient Descent(34/49): loss=65.93073010260336, w0=74.06780585277072, w1=11.034894865667946\n",
      "Gradient Descent(35/49): loss=65.93073010260338, w0=74.06780585384854, w1=11.034894865828523\n",
      "Gradient Descent(36/49): loss=65.93073010260336, w0=74.06780585438746, w1=11.03489486590881\n",
      "Gradient Descent(37/49): loss=65.93073010260336, w0=74.06780585465691, w1=11.034894865948957\n",
      "Gradient Descent(38/49): loss=65.93073010260336, w0=74.06780585479164, w1=11.034894865969028\n",
      "Gradient Descent(39/49): loss=65.93073010260338, w0=74.067805854859, w1=11.034894865979066\n",
      "Gradient Descent(40/49): loss=65.93073010260338, w0=74.06780585489268, w1=11.034894865984084\n",
      "Gradient Descent(41/49): loss=65.93073010260336, w0=74.06780585490952, w1=11.034894865986594\n",
      "Gradient Descent(42/49): loss=65.93073010260338, w0=74.06780585491795, w1=11.034894865987848\n",
      "Gradient Descent(43/49): loss=65.93073010260339, w0=74.06780585492216, w1=11.034894865988475\n",
      "Gradient Descent(44/49): loss=65.93073010260336, w0=74.06780585492426, w1=11.03489486598879\n",
      "Gradient Descent(45/49): loss=65.93073010260338, w0=74.06780585492531, w1=11.034894865988946\n",
      "Gradient Descent(46/49): loss=65.93073010260338, w0=74.06780585492584, w1=11.034894865989024\n",
      "Gradient Descent(47/49): loss=65.93073010260336, w0=74.0678058549261, w1=11.034894865989063\n",
      "Gradient Descent(48/49): loss=65.93073010260339, w0=74.06780585492623, w1=11.034894865989083\n",
      "Gradient Descent(49/49): loss=65.93073010260338, w0=74.0678058549263, w1=11.034894865989092\n",
      "Gradient Descent: execution time=0.005 seconds\n"
     ]
    }
   ],
   "source": [
    "# from gradient_descent import *\n",
    "from plots import gradient_descent_visualization\n",
    "\n",
    "# Define the parameters of the algorithm.\n",
    "max_iters = 50\n",
    "gamma = 0.5\n",
    "\n",
    "# Initialization\n",
    "w_initial = np.array([0, 0])\n",
    "\n",
    "# Start gradient descent.\n",
    "start_time = datetime.datetime.now()\n",
    "gradient_losses, gradient_ws = gradient_descent(y, tx, w_initial, max_iters, gamma)\n",
    "end_time = datetime.datetime.now()\n",
    "\n",
    "# Print result\n",
    "exection_time = (end_time - start_time).total_seconds()\n",
    "print(\"Gradient Descent: execution time={t:.3f} seconds\".format(t=exection_time))"
   ]
  },
  {
   "cell_type": "code",
   "execution_count": 32,
   "metadata": {},
   "outputs": [
    {
     "data": {
      "application/vnd.jupyter.widget-view+json": {
       "model_id": "a07d04b81dfd4d9a9afab47ddceec2a7",
       "version_major": 2,
       "version_minor": 0
      },
      "text/html": [
       "<p>Failed to display Jupyter Widget of type <code>interactive</code>.</p>\n",
       "<p>\n",
       "  If you're reading this message in the Jupyter Notebook or JupyterLab Notebook, it may mean\n",
       "  that the widgets JavaScript is still loading. If this message persists, it\n",
       "  likely means that the widgets JavaScript library is either not installed or\n",
       "  not enabled. See the <a href=\"https://ipywidgets.readthedocs.io/en/stable/user_install.html\">Jupyter\n",
       "  Widgets Documentation</a> for setup instructions.\n",
       "</p>\n",
       "<p>\n",
       "  If you're reading this message in another frontend (for example, a static\n",
       "  rendering on GitHub or <a href=\"https://nbviewer.jupyter.org/\">NBViewer</a>),\n",
       "  it may mean that your frontend doesn't currently support widgets.\n",
       "</p>\n"
      ],
      "text/plain": [
       "interactive(children=(IntSlider(value=1, description='n_iter', max=51, min=1), Output()), _dom_classes=('widget-interact',))"
      ]
     },
     "metadata": {},
     "output_type": "display_data"
    },
    {
     "data": {
      "text/plain": [
       "<function __main__.plot_figure>"
      ]
     },
     "execution_count": 32,
     "metadata": {},
     "output_type": "execute_result"
    }
   ],
   "source": [
    "# Time Visualization\n",
    "from ipywidgets import IntSlider, interact\n",
    "def plot_figure(n_iter):\n",
    "    fig = gradient_descent_visualization(\n",
    "        gradient_losses, gradient_ws, grid_losses, grid_w0, grid_w1, mean_x, std_x, height, weight, n_iter)\n",
    "    fig.set_size_inches(10.0, 6.0)\n",
    "\n",
    "interact(plot_figure, n_iter=IntSlider(min=1, max=len(gradient_ws)))"
   ]
  },
  {
   "cell_type": "markdown",
   "metadata": {
    "collapsed": true
   },
   "source": [
    "# Stochastic gradient descent"
   ]
  },
  {
   "cell_type": "code",
   "execution_count": 12,
   "metadata": {},
   "outputs": [],
   "source": [
    "def compute_stoch_gradient(y, tx, w):\n",
    "    \"\"\"Compute a stochastic gradient from just few examples n and their corresponding y_n labels.\"\"\"\n",
    "    err = y - tx.dot(w)\n",
    "    grad = -tx.T.dot(err) / len(err)\n",
    "    return grad, err\n",
    "\n",
    "def stochastic_gradient_descent(\n",
    "        y, tx, initial_w, batch_size, max_iters, gamma):\n",
    "    \"\"\"Stochastic gradient descent.\"\"\"\n",
    "    # Define parameters to store w and loss\n",
    "    ws = [initial_w]\n",
    "    losses = []\n",
    "    w = initial_w\n",
    "    \n",
    "    for n_iter in range(max_iters):\n",
    "        for y_batch, tx_batch in batch_iter(y, tx, batch_size=batch_size, num_batches=1):\n",
    "            # compute a stochastic gradient and loss\n",
    "            grad, _ = compute_stoch_gradient(y_batch, tx_batch, w)\n",
    "            # update w through the stochastic gradient update\n",
    "            w = w - gamma * grad\n",
    "            # calculate loss\n",
    "            loss = compute_loss(y, tx, w)\n",
    "            # store w and loss\n",
    "            ws.append(w)\n",
    "            losses.append(loss)\n",
    "\n",
    "        print(\"SGD({bi}/{ti}): loss={l}, w0={w0}, w1={w1}\".format(\n",
    "              bi=n_iter, ti=max_iters - 1, l=loss, w0=w[0], w1=w[1]))\n",
    "    return losses, ws"
   ]
  },
  {
   "cell_type": "code",
   "execution_count": 15,
   "metadata": {
    "scrolled": false
   },
   "outputs": [
    {
     "name": "stdout",
     "output_type": "stream",
     "text": [
      "SGD(0/49): loss=274.86427997003835, w0=51.67293563361437, w1=6.304077783200217\n",
      "SGD(1/49): loss=32.55058595109821, w0=70.52885381367581, w1=18.645348318195825\n",
      "SGD(2/49): loss=15.484954840672325, w0=72.8522171701227, w1=13.424659868389742\n",
      "SGD(3/49): loss=15.593071103272194, w0=72.70987660302478, w1=13.209051317170845\n",
      "SGD(4/49): loss=15.932553847727581, w0=72.30058229754238, w1=13.153203339961932\n",
      "SGD(5/49): loss=18.11419281582531, w0=72.50529274992041, w1=11.28092326897283\n",
      "SGD(6/49): loss=15.967000034973655, w0=72.27516213312514, w1=13.127075707400657\n",
      "SGD(7/49): loss=16.53721454641346, w0=72.93626813117022, w1=12.005013461037633\n",
      "SGD(8/49): loss=16.044925530866244, w0=72.19673329556687, w1=13.81772466304961\n",
      "SGD(9/49): loss=16.689918594693413, w0=71.90914515584701, w1=14.31064837583845\n",
      "SGD(10/49): loss=15.937666918209155, w0=73.15714004729621, w1=12.438151685153429\n",
      "SGD(11/49): loss=16.19891675182785, w0=72.80891346038487, w1=12.300380216971059\n",
      "SGD(12/49): loss=18.713078611227218, w0=75.63885503091194, w1=12.404691237427429\n",
      "SGD(13/49): loss=16.023985536906785, w0=72.20508995348045, w1=13.780777388184244\n",
      "SGD(14/49): loss=16.881363635734953, w0=74.46570049939073, w1=12.20775068748627\n",
      "SGD(15/49): loss=15.91362952796074, w0=72.98014536610039, w1=14.45799027944848\n",
      "SGD(16/49): loss=17.574475515497582, w0=73.20772634075911, w1=11.389318787538532\n",
      "SGD(17/49): loss=18.627134962787153, w0=70.81662645981912, w1=12.89191911749975\n",
      "SGD(18/49): loss=17.15860103129406, w0=71.43860625680908, w1=13.15841847272759\n",
      "SGD(19/49): loss=16.678017135463204, w0=72.43767189006572, w1=12.119163178659091\n",
      "SGD(20/49): loss=20.80343842318784, w0=72.39203396243038, w1=16.645419160604735\n",
      "SGD(21/49): loss=17.29583339006317, w0=71.96147749859018, w1=14.909566514089494\n",
      "SGD(22/49): loss=18.006300754947762, w0=72.746285229624, w1=15.702530407217791\n",
      "SGD(23/49): loss=15.485031756759094, w0=72.91065548188362, w1=13.25300877304986\n",
      "SGD(24/49): loss=19.19755314302269, w0=70.69738967595383, w1=14.41851509137514\n",
      "SGD(25/49): loss=15.398115344417517, w0=73.38699387779029, w1=13.354043914138781\n",
      "SGD(26/49): loss=15.438519903856285, w0=72.96947818338228, w1=13.479184660161362\n",
      "SGD(27/49): loss=15.924275742599095, w0=73.65746975615288, w1=12.507802573908162\n",
      "SGD(28/49): loss=16.798226432545032, w0=71.672919866156, w1=13.92359215144318\n",
      "SGD(29/49): loss=17.237889508636492, w0=71.87413875858155, w1=14.779027185549388\n",
      "SGD(30/49): loss=16.046765612456884, w0=73.83773072557963, w1=12.46678225006609\n",
      "SGD(31/49): loss=15.901185543576663, w0=72.35906893787123, w1=13.083928279435927\n",
      "SGD(32/49): loss=16.711170270848022, w0=71.75710376690115, w1=12.942353601450781\n",
      "SGD(33/49): loss=15.886112478769396, w0=73.69168198569139, w1=12.561978151365787\n",
      "SGD(34/49): loss=19.035873506408905, w0=75.9939614798569, w1=13.3809293709485\n",
      "SGD(35/49): loss=16.157858194792837, w0=72.0513765284889, w1=13.475086646132382\n",
      "SGD(36/49): loss=16.177576974353816, w0=72.06542484605444, w1=13.752059545537433\n",
      "SGD(37/49): loss=15.827808121620135, w0=72.63573041190965, w1=14.150998019652786\n",
      "SGD(38/49): loss=18.17712853476486, w0=72.75778334984994, w1=11.178617765613437\n",
      "SGD(39/49): loss=20.33689945764942, w0=76.1166539045935, w1=12.088954445864154\n",
      "SGD(40/49): loss=16.424295565585947, w0=74.59276519402702, w1=14.104069509355467\n",
      "SGD(41/49): loss=15.427116460647241, w0=73.51706487838058, w1=13.660445498934834\n",
      "SGD(42/49): loss=15.518569004799659, w0=72.88684147768737, w1=13.79538270375098\n",
      "SGD(43/49): loss=16.753684959644573, w0=72.83640301453312, w1=11.890287835443234\n",
      "SGD(44/49): loss=16.388707698397344, w0=74.38111641312739, w1=14.387262968996929\n",
      "SGD(45/49): loss=16.34602926492839, w0=73.49286976773303, w1=14.851099535245455\n",
      "SGD(46/49): loss=16.516430717040638, w0=72.63628017773836, w1=14.831967191780809\n",
      "SGD(47/49): loss=15.538276218119403, w0=73.25546975440749, w1=14.030437523601325\n",
      "SGD(48/49): loss=15.630349933189267, w0=72.64728088027812, w1=13.21366847568541\n",
      "SGD(49/49): loss=15.811785310229508, w0=72.52233532197323, w1=12.973304617273763\n",
      "SGD: execution time=0.029 seconds\n"
     ]
    }
   ],
   "source": [
    "# from stochastic_gradient_descent import *\n",
    "\n",
    "# Define the parameters of the algorithm.\n",
    "max_iters = 50\n",
    "gamma = 0.7\n",
    "batch_size = 10\n",
    "\n",
    "# Initialization\n",
    "w_initial = np.array([0, 0])\n",
    "\n",
    "# Start SGD.\n",
    "start_time = datetime.datetime.now()\n",
    "sgd_losses, sgd_ws = stochastic_gradient_descent(\n",
    "    y, tx, w_initial, batch_size, max_iters, gamma)\n",
    "end_time = datetime.datetime.now()\n",
    "\n",
    "# Print result\n",
    "exection_time = (end_time - start_time).total_seconds()\n",
    "print(\"SGD: execution time={t:.3f} seconds\".format(t=exection_time))"
   ]
  },
  {
   "cell_type": "code",
   "execution_count": 87,
   "metadata": {},
   "outputs": [
    {
     "data": {
      "image/png": "[encoded data removed]",
      "text/plain": [
       "<matplotlib.figure.Figure at 0x10e4198d0>"
      ]
     },
     "metadata": {},
     "output_type": "display_data"
    }
   ],
   "source": [
    "# Time Visualization\n",
    "from ipywidgets import IntSlider, interact\n",
    "def plot_figure(n_iter):\n",
    "    fig = gradient_descent_visualization(\n",
    "        sgd_losses, sgd_ws, grid_losses, grid_w0, grid_w1, mean_x, std_x, height, weight, n_iter)\n",
    "    fig.set_size_inches(10.0, 6.0)\n",
    "\n",
    "interact(plot_figure, n_iter=IntSlider(min=1, max=len(gradient_ws)))"
   ]
  },
  {
   "cell_type": "code",
   "execution_count": null,
   "metadata": {
    "collapsed": true
   },
   "outputs": [],
   "source": []
  }
 ],
 "metadata": {
  "anaconda-cloud": {},
  "kernelspec": {
   "display_name": "Python 3",
   "language": "python",
   "name": "python3"
  },
  "language_info": {
   "codemirror_mode": {
    "name": "ipython",
    "version": 3
   },
   "file_extension": ".py",
   "mimetype": "text/x-python",
   "name": "python",
   "nbconvert_exporter": "python",
   "pygments_lexer": "ipython3",
   "version": "3.6.3"
  },
  "widgets": {
   "state": {
    "d2b2c3aea192430e81437f33ba0b0e69": {
     "views": [
      {
       "cell_index": 22
      }
     ]
    },
    "e4a6a7a70ccd42ddb112989c04f2ed3f": {
     "views": [
      {
       "cell_index": 18
      }
     ]
    }
   },
   "version": "1.2.0"
  }
 },
 "nbformat": 4,
 "nbformat_minor": 1
}
